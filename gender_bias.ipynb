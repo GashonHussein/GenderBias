{
  "nbformat": 4,
  "nbformat_minor": 0,
  "metadata": {
    "colab": {
      "name": "CS 21si Homework 1.ipynb",
      "provenance": [],
      "collapsed_sections": [],
      "include_colab_link": true
    },
    "kernelspec": {
      "name": "python3",
      "display_name": "Python 3"
    },
    "language_info": {
      "name": "python"
    }
  },
  "cells": [
    {
      "cell_type": "markdown",
      "metadata": {
        "id": "view-in-github",
        "colab_type": "text"
      },
      "source": [
        "<a href=\"https://colab.research.google.com/github/GashonHussein/CS21si/blob/main/Homework_1.ipynb\" target=\"_parent\"><img src=\"https://colab.research.google.com/assets/colab-badge.svg\" alt=\"Open In Colab\"/></a>"
      ]
    },
    {
      "cell_type": "code",
      "metadata": {
        "id": "Rutox_uzCuSq",
        "colab": {
          "base_uri": "https://localhost:8080/"
        },
        "outputId": "71c3b20b-1633-4ade-952f-7b722b58ca8d"
      },
      "source": [
        "import torchtext.vocab as vocab\n",
        "import numpy as np\n",
        "import requests\n",
        "import zipfile\n",
        "import io\n",
        "from math import e \n",
        "np.random.seed(42)\n",
        "# Download class resources...\n",
        "r = requests.get(\"http://web.stanford.edu/class/cs21si/resources/unit1_resources.zip\")\n",
        "z = zipfile.ZipFile(io.BytesIO(r.content))\n",
        "z.extractall()\n",
        "\n",
        "VEC_SIZE = 300\n",
        "glove = vocab.GloVe(name='6B', dim=VEC_SIZE)"
      ],
      "execution_count": 1,
      "outputs": [
        {
          "output_type": "stream",
          "name": "stderr",
          "text": [
            ".vector_cache/glove.6B.zip: 862MB [02:41, 5.34MB/s]                           \n",
            "100%|█████████▉| 399999/400000 [00:52<00:00, 7691.05it/s]\n"
          ]
        }
      ]
    },
    {
      "cell_type": "code",
      "metadata": {
        "id": "Ev5dZ6j-C4Wl"
      },
      "source": [
        "def get_word_vector(word):\n",
        "    return glove.vectors[glove.stoi[word]].numpy()\n",
        "  \n",
        "def read_train_examples():\n",
        "    with open('unit1_resources/train.txt', 'r') as f:\n",
        "        raw_text = f.read()\n",
        "        lines = raw_text.split('\\n')\n",
        "        examples = [line.split() for line in lines]\n",
        "        examples = [(line[0], int(line[1])) for line in examples]\n",
        "    return examples"
      ],
      "execution_count": 2,
      "outputs": []
    },
    {
      "cell_type": "code",
      "metadata": {
        "id": "t3ag7HBrC9Jn"
      },
      "source": [
        "def sigmoid(z):\n",
        "    return 1 / (1 + e ** -z)\n",
        "\n",
        "def compute_logistic_regression(word, weights, bias):\n",
        "    val = get_word_vector(word)\n",
        "    return sigmoid(np.dot(val, weights) + bias)\n",
        "    # END CODE"
      ],
      "execution_count": 14,
      "outputs": []
    },
    {
      "cell_type": "code",
      "metadata": {
        "id": "Tn6fMDqhC-Ts"
      },
      "source": [
        "def fit_logistic_regression (O000O0OO0OOOOO000 ,OOO000O0O000OOO00 =1000 ,O00O0O0OOO00O00OO =0.001 ):\n",
        "    np .random .seed (42 )\n",
        "    O0OOO0OO0O0O0OO00 =np .random .randn (VEC_SIZE )\n",
        "    O0OOO00O0OOOOO000 =0 \n",
        "    for OO0O0000O000OOO00 in range (OOO000O0O000OOO00 ):\n",
        "        O0OOOO0OO0OO00000 =0 \n",
        "        for O00OOO0OO0000OO0O in O000O0OO0OOOOO000 :\n",
        "            OO0O00O000OOO0O00 ,O00OO0O0O00OO0000 =O00OOO0OO0000OO0O \n",
        "            O0O0OO0000OOO0O0O =compute_logistic_regression (OO0O00O000OOO0O00 ,O0OOO0OO0O0O0OO00 ,O0OOO00O0OOOOO000 )\n",
        "            O0OOOO0OO0OO00000 +=(1 -O00OO0O0O00OO0000 )*np .log (1 -O0O0OO0000OOO0O0O )+O00OO0O0O00OO0000 *np .log (O0O0OO0000OOO0O0O )\n",
        "            O0OOO0O0OO00O0O0O =O0O0OO0000OOO0O0O -O00OO0O0O00OO0000 \n",
        "            OOO00OO0O0OOOO000 =O0OOO0O0OO00O0O0O\n",
        "            OOOOOO0OOOOO0OO0O =get_word_vector (OO0O00O000OOO0O00 )*O0OOO0O0OO00O0O0O\n",
        "            O0OOO0OO0O0O0OO00 -=O00O0O0OOO00O00OO *OOOOOO0OOOOO0OO0O\n",
        "            O0OOO00O0OOOOO000 -=O00O0O0OOO00O00OO *OOO00OO0O0OOOO000\n",
        "        if OO0O0000O000OOO00 %100 ==0 :\n",
        "            print (\"Epoch %d, loss = %f\"%(OO0O0000O000OOO00 ,O0OOOO0OO0OO00000 ))\n",
        "    return O0OOO0OO0O0O0OO00 ,O0OOO00O0OOOOO000"
      ],
      "execution_count": 4,
      "outputs": []
    },
    {
      "cell_type": "code",
      "metadata": {
        "id": "FVtopLWvDA4e",
        "colab": {
          "base_uri": "https://localhost:8080/"
        },
        "outputId": "1c2aec29-d039-4403-d0a7-8ec179065735"
      },
      "source": [
        "\n",
        "examples = read_train_examples()\n",
        "print(examples)"
      ],
      "execution_count": 19,
      "outputs": [
        {
          "output_type": "stream",
          "name": "stdout",
          "text": [
            "[('girl', 1), ('boy', 0), ('husband', 0), ('wife', 1), ('king', 0), ('queen', 1), ('son', 0), ('daughter', 1), ('niece', 1), ('nephew', 0), ('father', 0), ('mother', 1), ('mom', 1), ('dad', 0), ('aunt', 1), ('uncle', 0), ('grandfather', 0), ('grandmother', 1), ('granddaughter', 1), ('grandson', 0), ('sister', 1), ('brother', 0), ('woman', 1), ('man', 0), ('prince', 0), ('princess', 1), ('waitress', 1), ('waiter', 0), ('actress', 1), ('actor', 0), ('salesman', 0), ('saleswoman', 1), ('male', 0), ('female', 1), ('his', 0), ('her', 1), ('him', 0), ('hers', 1), ('women', 1), ('men', 0), ('he', 0), ('she', 1), ('gentleman', 0), ('gentlemen', 0), ('lady', 1), ('ladies', 1), ('landlord', 0), ('landlady', 1)]\n"
          ]
        }
      ]
    },
    {
      "cell_type": "code",
      "metadata": {
        "id": "3rE0uQBpDFZB",
        "colab": {
          "base_uri": "https://localhost:8080/"
        },
        "outputId": "8dd57f47-b889-429a-a133-fa19d7d0e843"
      },
      "source": [
        "weights, bias = fit_logistic_regression(examples)\n"
      ],
      "execution_count": 20,
      "outputs": [
        {
          "output_type": "stream",
          "name": "stdout",
          "text": [
            "Epoch 0, loss = -127.387626\n",
            "Epoch 100, loss = -21.641045\n",
            "Epoch 200, loss = -8.226585\n",
            "Epoch 300, loss = -4.346964\n",
            "Epoch 400, loss = -2.740866\n",
            "Epoch 500, loss = -1.956233\n",
            "Epoch 600, loss = -1.521469\n",
            "Epoch 700, loss = -1.250360\n",
            "Epoch 800, loss = -1.065492\n",
            "Epoch 900, loss = -0.931076\n"
          ]
        }
      ]
    },
    {
      "cell_type": "code",
      "metadata": {
        "id": "Oad-eK3ZDIhA"
      },
      "source": [
        "def print_test_output(test_examples, weights, bias):\n",
        "    for test_example in test_examples:\n",
        "        pred = compute_logistic_regression(test_example, weights, bias)\n",
        "        print(\"%s is %s\" % (test_example, 'male' if pred < .5 else 'female'))"
      ],
      "execution_count": 17,
      "outputs": []
    },
    {
      "cell_type": "code",
      "metadata": {
        "id": "I5y_a3jzDKOd",
        "colab": {
          "base_uri": "https://localhost:8080/"
        },
        "outputId": "9a77e916-1ba9-424f-ee43-49212e7eade9"
      },
      "source": [
        "print_test_output(['she', 'he'], weights, bias)"
      ],
      "execution_count": 16,
      "outputs": [
        {
          "output_type": "stream",
          "name": "stdout",
          "text": [
            "she is female\n",
            "he is female\n"
          ]
        }
      ]
    },
    {
      "cell_type": "code",
      "metadata": {
        "id": "CvdGZtVDDUgm",
        "colab": {
          "base_uri": "https://localhost:8080/"
        },
        "outputId": "b8690228-5c9f-4471-869b-cdca72e771ec"
      },
      "source": [
        "print_test_output(['nurse', 'homemaker', 'carpenter', 'surgeon', 'doctor', 'artist', \n",
        "                   'engineer', 'entrepreneur', 'genius', 'intellectual', 'chef', 'cook', \n",
        "                   'maid', 'teacher', 'boss', 'manager', 'founder'], weights, bias)"
      ],
      "execution_count": 21,
      "outputs": [
        {
          "output_type": "stream",
          "name": "stdout",
          "text": [
            "nurse is female\n",
            "homemaker is female\n",
            "carpenter is male\n",
            "surgeon is male\n",
            "doctor is male\n",
            "artist is female\n",
            "engineer is male\n",
            "entrepreneur is male\n",
            "genius is male\n",
            "intellectual is male\n",
            "chef is male\n",
            "cook is female\n",
            "maid is female\n",
            "teacher is female\n",
            "boss is male\n",
            "manager is male\n",
            "founder is male\n"
          ]
        }
      ]
    }
  ]
}